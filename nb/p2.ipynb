{
 "cells": [
  {
   "cell_type": "code",
   "execution_count": 68,
   "id": "686d8fbd-7961-4681-b59c-3cbb62785931",
   "metadata": {},
   "outputs": [
    {
     "data": {
      "text/plain": [
       "array([[ 24,  51,  44, ...,  27,   0,   3],\n",
       "       [ 22,  31, 214, ...,   0,   0,   2],\n",
       "       [ 84, 126, 239, ...,  24,   8,   9],\n",
       "       ...,\n",
       "       [268, 358, 277, ...,  47,   7,   5],\n",
       "       [ 81, 116,  90, ...,   9,   0,   2],\n",
       "       [118, 156, 197, ...,   0,   0,   5]])"
      ]
     },
     "execution_count": 68,
     "metadata": {},
     "output_type": "execute_result"
    }
   ],
   "source": [
    "import pandas as pd\n",
    "df = pd.read_csv(\"train.csv\")\n",
    "df.values"
   ]
  },
  {
   "cell_type": "code",
   "execution_count": 31,
   "id": "0d7e3fe8-f4d2-49e9-bdbb-4431e627f67a",
   "metadata": {},
   "outputs": [],
   "source": [
    "import torch\n",
    "import numpy as np\n",
    "\n",
    "np_array = np.array(df)"
   ]
  },
  {
   "cell_type": "code",
   "execution_count": 32,
   "id": "41996a2a-17dc-4123-9c4b-29d68b70aa27",
   "metadata": {},
   "outputs": [
    {
     "data": {
      "text/plain": [
       "array([[ 24,  51,  44, ...,  27,   0,   3],\n",
       "       [ 22,  31, 214, ...,   0,   0,   2],\n",
       "       [ 84, 126, 239, ...,  24,   8,   9],\n",
       "       ...,\n",
       "       [268, 358, 277, ...,  47,   7,   5],\n",
       "       [ 81, 116,  90, ...,   9,   0,   2],\n",
       "       [118, 156, 197, ...,   0,   0,   5]])"
      ]
     },
     "execution_count": 32,
     "metadata": {},
     "output_type": "execute_result"
    }
   ],
   "source": [
    "np_array"
   ]
  },
  {
   "cell_type": "code",
   "execution_count": 34,
   "id": "e3152573-ca16-4643-998e-6882de547dbd",
   "metadata": {},
   "outputs": [
    {
     "data": {
      "text/html": [
       "<div>\n",
       "<style scoped>\n",
       "    .dataframe tbody tr th:only-of-type {\n",
       "        vertical-align: middle;\n",
       "    }\n",
       "\n",
       "    .dataframe tbody tr th {\n",
       "        vertical-align: top;\n",
       "    }\n",
       "\n",
       "    .dataframe thead th {\n",
       "        text-align: right;\n",
       "    }\n",
       "</style>\n",
       "<table border=\"1\" class=\"dataframe\">\n",
       "  <thead>\n",
       "    <tr style=\"text-align: right;\">\n",
       "      <th></th>\n",
       "      <th>POS_0_9_CP</th>\n",
       "      <th>POS_10_19_CP</th>\n",
       "      <th>POS_20_29_CP</th>\n",
       "      <th>POS_30_39_CP</th>\n",
       "      <th>POS_40_49_CP</th>\n",
       "      <th>POS_50_59_CP</th>\n",
       "      <th>POS_60_69_CP</th>\n",
       "      <th>POS_70_79_CP</th>\n",
       "      <th>POS_80_89_CP</th>\n",
       "      <th>POS_90_CP</th>\n",
       "      <th>DTH_CUM_CP</th>\n",
       "    </tr>\n",
       "  </thead>\n",
       "  <tbody>\n",
       "    <tr>\n",
       "      <th>0</th>\n",
       "      <td>24</td>\n",
       "      <td>51</td>\n",
       "      <td>44</td>\n",
       "      <td>51</td>\n",
       "      <td>60</td>\n",
       "      <td>75</td>\n",
       "      <td>72</td>\n",
       "      <td>61</td>\n",
       "      <td>27</td>\n",
       "      <td>0</td>\n",
       "      <td>3</td>\n",
       "    </tr>\n",
       "    <tr>\n",
       "      <th>1</th>\n",
       "      <td>22</td>\n",
       "      <td>31</td>\n",
       "      <td>214</td>\n",
       "      <td>177</td>\n",
       "      <td>62</td>\n",
       "      <td>46</td>\n",
       "      <td>24</td>\n",
       "      <td>9</td>\n",
       "      <td>0</td>\n",
       "      <td>0</td>\n",
       "      <td>2</td>\n",
       "    </tr>\n",
       "    <tr>\n",
       "      <th>2</th>\n",
       "      <td>84</td>\n",
       "      <td>126</td>\n",
       "      <td>239</td>\n",
       "      <td>194</td>\n",
       "      <td>159</td>\n",
       "      <td>171</td>\n",
       "      <td>125</td>\n",
       "      <td>74</td>\n",
       "      <td>24</td>\n",
       "      <td>8</td>\n",
       "      <td>9</td>\n",
       "    </tr>\n",
       "    <tr>\n",
       "      <th>3</th>\n",
       "      <td>65</td>\n",
       "      <td>76</td>\n",
       "      <td>80</td>\n",
       "      <td>110</td>\n",
       "      <td>82</td>\n",
       "      <td>81</td>\n",
       "      <td>55</td>\n",
       "      <td>49</td>\n",
       "      <td>56</td>\n",
       "      <td>34</td>\n",
       "      <td>7</td>\n",
       "    </tr>\n",
       "    <tr>\n",
       "      <th>4</th>\n",
       "      <td>99</td>\n",
       "      <td>107</td>\n",
       "      <td>339</td>\n",
       "      <td>287</td>\n",
       "      <td>139</td>\n",
       "      <td>147</td>\n",
       "      <td>110</td>\n",
       "      <td>71</td>\n",
       "      <td>37</td>\n",
       "      <td>0</td>\n",
       "      <td>12</td>\n",
       "    </tr>\n",
       "    <tr>\n",
       "      <th>...</th>\n",
       "      <td>...</td>\n",
       "      <td>...</td>\n",
       "      <td>...</td>\n",
       "      <td>...</td>\n",
       "      <td>...</td>\n",
       "      <td>...</td>\n",
       "      <td>...</td>\n",
       "      <td>...</td>\n",
       "      <td>...</td>\n",
       "      <td>...</td>\n",
       "      <td>...</td>\n",
       "    </tr>\n",
       "    <tr>\n",
       "      <th>1039</th>\n",
       "      <td>86</td>\n",
       "      <td>201</td>\n",
       "      <td>206</td>\n",
       "      <td>202</td>\n",
       "      <td>240</td>\n",
       "      <td>317</td>\n",
       "      <td>225</td>\n",
       "      <td>138</td>\n",
       "      <td>48</td>\n",
       "      <td>0</td>\n",
       "      <td>7</td>\n",
       "    </tr>\n",
       "    <tr>\n",
       "      <th>1040</th>\n",
       "      <td>80</td>\n",
       "      <td>102</td>\n",
       "      <td>125</td>\n",
       "      <td>124</td>\n",
       "      <td>104</td>\n",
       "      <td>71</td>\n",
       "      <td>70</td>\n",
       "      <td>36</td>\n",
       "      <td>6</td>\n",
       "      <td>0</td>\n",
       "      <td>6</td>\n",
       "    </tr>\n",
       "    <tr>\n",
       "      <th>1041</th>\n",
       "      <td>268</td>\n",
       "      <td>358</td>\n",
       "      <td>277</td>\n",
       "      <td>415</td>\n",
       "      <td>355</td>\n",
       "      <td>332</td>\n",
       "      <td>215</td>\n",
       "      <td>107</td>\n",
       "      <td>47</td>\n",
       "      <td>7</td>\n",
       "      <td>5</td>\n",
       "    </tr>\n",
       "    <tr>\n",
       "      <th>1042</th>\n",
       "      <td>81</td>\n",
       "      <td>116</td>\n",
       "      <td>90</td>\n",
       "      <td>145</td>\n",
       "      <td>118</td>\n",
       "      <td>113</td>\n",
       "      <td>70</td>\n",
       "      <td>36</td>\n",
       "      <td>9</td>\n",
       "      <td>0</td>\n",
       "      <td>2</td>\n",
       "    </tr>\n",
       "    <tr>\n",
       "      <th>1043</th>\n",
       "      <td>118</td>\n",
       "      <td>156</td>\n",
       "      <td>197</td>\n",
       "      <td>215</td>\n",
       "      <td>114</td>\n",
       "      <td>114</td>\n",
       "      <td>83</td>\n",
       "      <td>19</td>\n",
       "      <td>0</td>\n",
       "      <td>0</td>\n",
       "      <td>5</td>\n",
       "    </tr>\n",
       "  </tbody>\n",
       "</table>\n",
       "<p>1044 rows × 11 columns</p>\n",
       "</div>"
      ],
      "text/plain": [
       "      POS_0_9_CP  POS_10_19_CP  POS_20_29_CP  POS_30_39_CP  POS_40_49_CP  \\\n",
       "0             24            51            44            51            60   \n",
       "1             22            31           214           177            62   \n",
       "2             84           126           239           194           159   \n",
       "3             65            76            80           110            82   \n",
       "4             99           107           339           287           139   \n",
       "...          ...           ...           ...           ...           ...   \n",
       "1039          86           201           206           202           240   \n",
       "1040          80           102           125           124           104   \n",
       "1041         268           358           277           415           355   \n",
       "1042          81           116            90           145           118   \n",
       "1043         118           156           197           215           114   \n",
       "\n",
       "      POS_50_59_CP  POS_60_69_CP  POS_70_79_CP  POS_80_89_CP  POS_90_CP  \\\n",
       "0               75            72            61            27          0   \n",
       "1               46            24             9             0          0   \n",
       "2              171           125            74            24          8   \n",
       "3               81            55            49            56         34   \n",
       "4              147           110            71            37          0   \n",
       "...            ...           ...           ...           ...        ...   \n",
       "1039           317           225           138            48          0   \n",
       "1040            71            70            36             6          0   \n",
       "1041           332           215           107            47          7   \n",
       "1042           113            70            36             9          0   \n",
       "1043           114            83            19             0          0   \n",
       "\n",
       "      DTH_CUM_CP  \n",
       "0              3  \n",
       "1              2  \n",
       "2              9  \n",
       "3              7  \n",
       "4             12  \n",
       "...          ...  \n",
       "1039           7  \n",
       "1040           6  \n",
       "1041           5  \n",
       "1042           2  \n",
       "1043           5  \n",
       "\n",
       "[1044 rows x 11 columns]"
      ]
     },
     "execution_count": 34,
     "metadata": {},
     "output_type": "execute_result"
    }
   ],
   "source": [
    "df"
   ]
  },
  {
   "cell_type": "code",
   "execution_count": 100,
   "id": "fe2f7ac6-0803-4830-b179-47d45b4bba0c",
   "metadata": {},
   "outputs": [],
   "source": [
    "ds = torch.utils.data.TensorDataset(\n",
    "    torch.tensor(df.loc[:, \"POS_0_9_CP\":\"POS_90_CP\"].values),\n",
    "    torch.tensor(df.loc[:, [\"DTH_CUM_CP\"]].values)\n",
    ")"
   ]
  },
  {
   "cell_type": "code",
   "execution_count": 331,
   "id": "e13e0338-3426-4b45-b189-fa846725bdb4",
   "metadata": {},
   "outputs": [],
   "source": [
    "trainX, trainY = ds[: :]"
   ]
  },
  {
   "cell_type": "code",
   "execution_count": 332,
   "id": "51ee7b24-8f43-4fc3-942d-3bba532cdc06",
   "metadata": {},
   "outputs": [],
   "source": [
    "trainX = trainX.to(torch.float64)\n",
    "trainY = trainY.to(torch.float64)"
   ]
  },
  {
   "cell_type": "code",
   "execution_count": 333,
   "id": "25659a13-fd05-4638-8e7d-22845f64b579",
   "metadata": {},
   "outputs": [
    {
     "data": {
      "text/plain": [
       "tensor([[ 24.,  51.,  44.,  ...,  61.,  27.,   0.],\n",
       "        [ 22.,  31., 214.,  ...,   9.,   0.,   0.],\n",
       "        [ 84., 126., 239.,  ...,  74.,  24.,   8.],\n",
       "        ...,\n",
       "        [268., 358., 277.,  ..., 107.,  47.,   7.],\n",
       "        [ 81., 116.,  90.,  ...,  36.,   9.,   0.],\n",
       "        [118., 156., 197.,  ...,  19.,   0.,   0.]], dtype=torch.float64)"
      ]
     },
     "execution_count": 333,
     "metadata": {},
     "output_type": "execute_result"
    }
   ],
   "source": [
    "trainX"
   ]
  },
  {
   "cell_type": "code",
   "execution_count": 334,
   "id": "f7c354a3-38c6-49c3-ac98-3d54d3a1cfe2",
   "metadata": {},
   "outputs": [
    {
     "data": {
      "text/plain": [
       "tensor([[3.],\n",
       "        [2.],\n",
       "        [9.],\n",
       "        ...,\n",
       "        [5.],\n",
       "        [2.],\n",
       "        [5.]], dtype=torch.float64)"
      ]
     },
     "execution_count": 334,
     "metadata": {},
     "output_type": "execute_result"
    }
   ],
   "source": [
    "trainY"
   ]
  },
  {
   "cell_type": "code",
   "execution_count": 338,
   "id": "357b9512-69d4-4bde-8fe1-ee920a3572a6",
   "metadata": {},
   "outputs": [
    {
     "name": "stdout",
     "output_type": "stream",
     "text": [
      "83520\n"
     ]
    }
   ],
   "source": [
    "# Q1: about how many bytes does trainX consume?\n",
    "print(trainX.nelement() * trainX.element_size())"
   ]
  },
  {
   "cell_type": "code",
   "execution_count": 399,
   "id": "1a3f95c8-bc5b-4b53-8370-87c2bef70633",
   "metadata": {},
   "outputs": [
    {
     "name": "stdout",
     "output_type": "stream",
     "text": [
      "0.0\n"
     ]
    }
   ],
   "source": [
    "# Q2: what is the biggest difference we would have any one cell if we used float16 instead of float64?\n",
    "biggest_val = -1.0\n",
    "for cell in trainX:\n",
    "    # print(cell)\n",
    "    float16_X = cell.to(torch.float16)\n",
    "    float16_X = float16_X.to(torch.float64)\n",
    "    # print(torch.sum(float16_X))\n",
    "    diff = abs(float16_X - cell)\n",
    "    # torch.sum(diff)\n",
    "    # print(torch.sum(diff).item())\n",
    "    curr_val = torch.sum(diff).item()\n",
    "    if curr_val > biggest_val:\n",
    "        biggest_val = curr_val\n",
    "print(biggest_val)"
   ]
  },
  {
   "cell_type": "code",
   "execution_count": 400,
   "id": "57452f0a-8ea7-4686-9338-34f8ce196f31",
   "metadata": {},
   "outputs": [
    {
     "data": {
      "text/plain": [
       "False"
      ]
     },
     "execution_count": 400,
     "metadata": {},
     "output_type": "execute_result"
    }
   ],
   "source": [
    "# Q3: is a CUDA GPU available on your VM?\n",
    "torch.cuda.is_available()"
   ]
  },
  {
   "cell_type": "code",
   "execution_count": null,
   "id": "c97db5da-832d-4069-a4b7-0773a94418ab",
   "metadata": {},
   "outputs": [],
   "source": []
  }
 ],
 "metadata": {
  "kernelspec": {
   "display_name": "Python 3 (ipykernel)",
   "language": "python",
   "name": "python3"
  },
  "language_info": {
   "codemirror_mode": {
    "name": "ipython",
    "version": 3
   },
   "file_extension": ".py",
   "mimetype": "text/x-python",
   "name": "python",
   "nbconvert_exporter": "python",
   "pygments_lexer": "ipython3",
   "version": "3.11.5"
  }
 },
 "nbformat": 4,
 "nbformat_minor": 5
}
